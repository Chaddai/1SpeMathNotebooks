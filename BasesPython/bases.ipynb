{
 "cells": [
  {
   "cell_type": "markdown",
   "metadata": {},
   "source": [
    "# Bases de l'algorithmique (telles que pratiquées en Python)\n",
    "\n",
    "Un algorithme est une *recette* qui décrit comment obtenir un résultat à partir de données en entrée. Une recette de gâteau décrit comment prendre les ingrédients en entrée et produire un gâteau comme résultat. L'*algorithme d'Euclide* vu en collège prenait deux nombres entiers en entrée et permettait de calculer leur plus grand diviseur commun (le pgcd). On peut décrire un tel algorithme en Français mais les ordinateurs ne sauront alors pas le comprendre (car les langages naturels sont bien trop complexes et ambigues), or nous souhaiterions laisser à l'ordinateur les tâches répétitives et les calculs complexes. Nous utiliserons donc Python qui est un langage de programmation de haut-niveau : on ne dit pas directement ce qui doit se passer au niveau matériel mais on donne plutôt une description presque lisible (en anglais) des opérations à effectuer.\n",
    "\n",
    "## Syntaxe de base\n",
    "\n",
    "En pratique du code en Python est constitué d'une instruction par ligne. Chaque instruction représente un ordre donné à l'ordinateur.\n",
    "\n",
    "Par exemple les deux lignes suivantes ordonne à l'ordinateur d'afficher le texte \"Bonjour tout le monde !\" puis de passer à la ligne puis d'afficher le résultat de $5^{10}$ en utilisant la fonction `print` qui affiche ses paramètres (les valeurs qu'on lui passe entre parenthèses comme le 5 dans $f(5)$ en Mathématiques).\n",
    "\n",
    "Pour exécuter du code, cliquer sur le bloc le contenant puis appuyer sur l'icône 'Play' en haut de cet onglet ou utilisez le raccourci clavier `Maj+Entrée`. Essayez sur ce code :"
   ]
  },
  {
   "cell_type": "code",
   "execution_count": null,
   "metadata": {},
   "outputs": [],
   "source": [
    "print(\"Bonjour tout le monde !\")\n",
    "print(5**10)"
   ]
  },
  {
   "cell_type": "markdown",
   "metadata": {},
   "source": [
    "On peut également passer plusieurs paramètres à une même fonction, en les séparant par des virgules :"
   ]
  },
  {
   "cell_type": "code",
   "execution_count": null,
   "metadata": {},
   "outputs": [],
   "source": [
    "print(\"Le carré de 13 est\", 13*13)"
   ]
  },
  {
   "cell_type": "markdown",
   "metadata": {},
   "source": [
    "Dans le cas de la fonction `print`, elle affiche par défaut ses paramètres séparés par une espace.\n",
    "\n",
    "On peut mettre un # devant une remarque pour que Python l'ignore, on appelle ceci un *commentaire* et on l'utilise pour décrire son intention pour un autre programmeur (ou soi-même si l'on a oublié) :"
   ]
  },
  {
   "cell_type": "code",
   "execution_count": null,
   "metadata": {},
   "outputs": [],
   "source": [
    "# cette ligne affichera le carré de -18\n",
    "print((-18)**2) # attention aux parenthèses"
   ]
  },
  {
   "cell_type": "markdown",
   "metadata": {},
   "source": [
    "## Les types de valeurs élémentaires\n",
    "\n",
    "En programmation, on manipule d'abord des valeurs qui peuvent être :\n",
    "\n",
    "* entières (en anglais *integer*, abrégé en `int` par Python), \n",
    "* une approximation des nombres réels qu'on appelle les nombres à virgule flottante (ou `float` en Python, on utilise le point décimal à l'anglaise comme `2.5` et l'on peut ajouter une puissance de dix pour une notation scientifique `1.25e5` soit $1,25\\times10^5$), \n",
    "* du texte ou \"chaîne de caractères\" (un *enchaînement* de lettres d'où le nom anglais de *string* abrégé `str` en Python) entre guillemets anglais ou\n",
    "* un booléen (abrégé en `bool` par Python), c'est-à-dire une valeur de vérité \"vrai\" (`True`) ou \"faux\" (`False`).\n",
    "\n",
    "Il est important de garder trace du type d'objet qu'on manipule, les opérations qu'on peut leur faire subir en dépendent et on ne peut pas comparer deux valeurs de types différents (à part les entiers et les réels). La fonction `type` peut prendre en paramètre une valeur et vous dire de quelle type de valeur il s'agit (du point de vue de Python) :"
   ]
  },
  {
   "cell_type": "code",
   "execution_count": null,
   "metadata": {},
   "outputs": [],
   "source": [
    "print(13, \"est un entier du type\", type(13))\n",
    "print(1.25e5, \"est un réel du type\", type(1.25e5))\n",
    "print(\"Ceci\", \"est un texte du type\", type(\"Ceci\"))\n",
    "print(True, \"est un booléen du type\", type(True))\n",
    "print(\"Attention, \\\"13\\\" n'est pas un entier, c'est du texte :\", type(\"13\"))"
   ]
  },
  {
   "cell_type": "markdown",
   "metadata": {},
   "source": [
    "Les opérations sur les types numériques sont classiques : `+`, `-`, `*`pour $\\times$, `/` pour $\\div$, `**` met à la puissance. On a aussi `//` pour le quotient d'une division euclidienne (entre entiers) et `%` pour le reste de la division euclidienne. Les priorités usuelles sont respectées, on peut mettre des parenthèses."
   ]
  },
  {
   "cell_type": "code",
   "execution_count": null,
   "metadata": {},
   "outputs": [],
   "source": [
    "print(2+5-1)\n",
    "print(3 * 100 / 200)\n",
    "print(2**10)\n",
    "print(\"division euclidienne de 17 par 3 : 17 = 3 *\", 17 // 3, \"+\", 17%3)\n",
    "print(5 * (3+3) - 10)"
   ]
  },
  {
   "cell_type": "markdown",
   "metadata": {},
   "source": [
    "On peut également faire des comparaisons entre valeurs, le résultat est alors un booléen. Les opérateurs sont `<`et `>` pour les comparaisons strictes, `<=`et `>=` pour les comparaisons larges ($\\leqslant$ et $\\geqslant$), `==` pour tester l'égalité de deux valeurs (le égal seul a un autre rôle en Python) et `!=`pour $\\ne$."
   ]
  },
  {
   "cell_type": "code",
   "execution_count": null,
   "metadata": {},
   "outputs": [],
   "source": [
    "print(2 < 5)\n",
    "print(1+2 <= 3)\n",
    "print(10**3 > 10000)\n",
    "print(5**2 == 25)\n",
    "print(5**2 != 100)"
   ]
  },
  {
   "cell_type": "markdown",
   "metadata": {},
   "source": [
    "A leur tour, les valeurs booléennes peuvent être combinées avec `not`, `and` et `or` :"
   ]
  },
  {
   "cell_type": "code",
   "execution_count": null,
   "metadata": {},
   "outputs": [],
   "source": [
    "print(not True, not False)\n",
    "print(True or False)\n",
    "print(2 < 3 and 5 < 10)\n",
    "print(2*3 == 6 and 20 < 10)"
   ]
  },
  {
   "cell_type": "markdown",
   "metadata": {},
   "source": [
    "**Exercice** : Essayez de faire afficher le résultat des opérations $5^3$, $17\\times15$ et $9^{\\left(9^9\\right)}$. Vérifier si $5\\times(10+9)$ est égal à $5\\times19$."
   ]
  },
  {
   "cell_type": "code",
   "execution_count": null,
   "metadata": {},
   "outputs": [],
   "source": [
    "print( ..., ..., ... )\n",
    "print( 5 * ...)"
   ]
  },
  {
   "cell_type": "markdown",
   "metadata": {},
   "source": [
    "Les chaînes de caractères (le texte) peuvent être concaténée (mise bout à bout) avec le `+` et répétée avec le `*`. On peut également tenter de convertir des valeurs d'un type à l'autre avec des fonctions comme `str`, `int` ou `float` :"
   ]
  },
  {
   "cell_type": "code",
   "execution_count": null,
   "metadata": {},
   "outputs": [],
   "source": [
    "print(\"La concaténation permet\" + \" plus de souplesse sur l'espacement, surtout avec les conversions : 2**20=\" + str(2**20))\n",
    "print(\"Répéter c'est\", \"rigolo\" * 5)"
   ]
  },
  {
   "cell_type": "markdown",
   "metadata": {},
   "source": [
    "## Les variables\n",
    "\n",
    "Utiliser directement les valeurs est souvent peu lisible et parfois impossible, on peut donc ranger ces valeurs dans des boîtes auxquelles on donne un nom. On peut alors réutiliser ce nom plutôt que d'écrire directement la valeur correspondante (le programme se comporte comme si le nom était remplacé par la valeur contenue). Ces boîtes sont appelés des *variables* et on peut leur donner n'importe quel nom constitué de lettres alphabétiques, de chiffres (sauf en première position) et de soulignement bas (\"\\_\", obtenue sous la touche `8` du clavier). Pour ranger une valeur dans une variable, on utilise le `=`, on dit qu'on affecte la valeur à la variable :"
   ]
  },
  {
   "cell_type": "code",
   "execution_count": null,
   "metadata": {},
   "outputs": [],
   "source": [
    "# on affecte 10 à a\n",
    "a = 10\n",
    "# 3 * a se comporte comme 3 * 10\n",
    "print(3 * a)\n",
    "\n",
    "# on affecte le résultat de a**4 à nImporte_quel_nom\n",
    "nImporte_quel_nom = a**4\n",
    "print(nImporte_quel_nom)\n",
    "\n",
    "max1 = 10\n",
    "max2 = 100\n",
    "print(max1 < max2)\n",
    "print(\"Attention à bien distinguer la variable et un texte contenant son nom :\" , \"max1\", \"est\", max1, \". Notez l'absence de guillemet !\")"
   ]
  },
  {
   "cell_type": "markdown",
   "metadata": {},
   "source": [
    "Il est possible de changer la valeur contenue par une variable en faisant une nouvelle affectation :"
   ]
  },
  {
   "cell_type": "code",
   "execution_count": null,
   "metadata": {},
   "outputs": [],
   "source": [
    "a = 10\n",
    "print(3 * a)\n",
    "a = 1000\n",
    "print(3 * a)"
   ]
  },
  {
   "cell_type": "markdown",
   "metadata": {},
   "source": [
    "Les calculs à droite du `=` étant tous effectués *avant* l'affectation, il est même possible d'utiliser l'ancienne valeur de la variable dans le calcul de sa nouvelle valeur :"
   ]
  },
  {
   "cell_type": "code",
   "execution_count": null,
   "metadata": {},
   "outputs": [],
   "source": [
    "x = 10\n",
    "print(x)\n",
    "x = x * 2\n",
    "print(\"x a doublé :\", x)\n",
    "x = x * 3\n",
    "print(\"x a encore triplé par rapport à sa nouvelle valeur :\", x)"
   ]
  },
  {
   "cell_type": "markdown",
   "metadata": {},
   "source": [
    "**Exercice** : Compléter le code suivant pour échanger les valeurs de `a` et `b`."
   ]
  },
  {
   "cell_type": "code",
   "execution_count": null,
   "metadata": {},
   "outputs": [],
   "source": [
    "a = 5\n",
    "b = 15\n",
    "\n",
    "# devrait afficher : 5 15\n",
    "print(a, b)\n",
    "\n",
    "...\n",
    "\n",
    "# devrait afficher : 15 5\n",
    "print(a, b)"
   ]
  },
  {
   "cell_type": "markdown",
   "metadata": {},
   "source": [
    "## L'instruction conditionnelle\n",
    "\n",
    "Parfois, selon la valeur d'une variable, on souhaite effectuer un code différent. C'est alors qu'on utilise l'instruction conditionnelle : Si (booléen) Alors (Code exécuté si le booléen est vrai) Sinon (Code exécuté si le booléen est faux). Ce qui en Python se note :\n",
    "\n",
    "```python\n",
    "if test :\n",
    "    code exécuté si test est vrai\n",
    "else:\n",
    "    code exécuté si test est faux\n",
    "```\n",
    "\n",
    "Notez les deux points après le test et le `else` et les espaces en début de ligne avant le code à exécuter : on dit que ce code est *indenté* pour indiquer qu'il appartient au `if` (si) ou au `else` (sinon). Il est possible d'écrire plusieurs lignes consécutives indentées similairement (même nombre d'espace en début de ligne) pour indiquer que l'exécution de toutes ces instructions est conditionnée par la valeur du test, on appelle ceci un *bloc de code* et en Python il est toujours précédé d'un `:`. L'instruction conditionnelle est terminée dès qu'une ligne d'instruction n'est plus indentée."
   ]
  },
  {
   "cell_type": "code",
   "execution_count": null,
   "metadata": {},
   "outputs": [],
   "source": [
    "# essayer d'exécuter ce code avec diverses valeurs pour age\n",
    "age = 25\n",
    "\n",
    "if age < 18:\n",
    "    print(\"Vous êtes mineur.\")\n",
    "    print(\"Bientôt vous serez majeur !\")\n",
    "else:\n",
    "    print(\"Vous êtes déjà majeur.\")\n",
    "    \n",
    "print(\"Ceci est affiché à tous les coups.\")"
   ]
  },
  {
   "cell_type": "markdown",
   "metadata": {},
   "source": [
    "On peut également ne pas avoir de code à exécuter si le test est faux, dans ce cas on peut omettre le Sinon, le `else` :"
   ]
  },
  {
   "cell_type": "code",
   "execution_count": null,
   "metadata": {},
   "outputs": [],
   "source": [
    "if 10**3 < 2**10:\n",
    "    print(\"2**10 est légèrement supérieur à 1000.\")"
   ]
  },
  {
   "cell_type": "markdown",
   "metadata": {},
   "source": [
    "**Exercice** : Ecrire une instruction conditionnelle qui affiche si le point de coordonnée $x$ et $y$ est sur la droite d'équation $y = 2x+1$ (rappelez vous que le test d'égalité se fait avec `==`) :"
   ]
  },
  {
   "cell_type": "code",
   "execution_count": null,
   "metadata": {},
   "outputs": [],
   "source": [
    "x = 135\n",
    "y = 261\n",
    "\n",
    "if ... :\n",
    "    print(\"Il est sur la droite !\")\n",
    "else:\n",
    "    ...\n"
   ]
  },
  {
   "cell_type": "markdown",
   "metadata": {},
   "source": [
    "Pour indenter ou désindenter plusieurs lignes, on peut les sélectionner toutes et utiliser la touche `Tab`ulation (au-dessus du Verouillage Majuscule) pour les indenter toutes de 4 espaces ou `Maj+Tab` pour les désindenter. On peut aussi se retrouver avec trois ou plus alternatives, dans ce cas, Python permet d'écrire un Sinon Si test sous forme plus compacte : "
   ]
  },
  {
   "cell_type": "code",
   "execution_count": null,
   "metadata": {},
   "outputs": [],
   "source": [
    "# on pourrait écrire (notez la double indentation) :\n",
    "age = 75\n",
    "\n",
    "if age < 18:\n",
    "    print(\"Vous êtes mineur.\")\n",
    "    print(\"Bientôt vous serez majeur !\")\n",
    "else:\n",
    "    if 18 <= age < 60:\n",
    "        print(\"Vous êtes déjà majeur.\")\n",
    "    else:\n",
    "        print(\"Bientôt la retraite !\")\n",
    "\n",
    "# mais Python permet de contracter le else: if test: en elif test: et ainsi d'avoir un seul niveau d'indentation\n",
    "note = 9\n",
    "\n",
    "if note < 7:\n",
    "    print(\"A retravailler\")\n",
    "elif 7 <= note < 10:\n",
    "    print(\"Un peu juste\")\n",
    "elif 10 <= note < 15:\n",
    "    print(\"Correct\")\n",
    "else:\n",
    "    print(\"Très bien\")"
   ]
  },
  {
   "cell_type": "markdown",
   "metadata": {},
   "source": [
    "## Les fonctions\n",
    "\n",
    "En Python, on peut écrire un algorithme prenant des données en entrée et renvoyant un résultat en définissant une fonction, c'est-à-dire une suite d'instruction prenant en entrée des paramètres et renvoyant un résultat à l'aide de l'instruction `return`. Voici par exemple la fonction carré :"
   ]
  },
  {
   "cell_type": "code",
   "execution_count": null,
   "metadata": {},
   "outputs": [],
   "source": [
    "# la définition en elle-même n'exécute aucune instruction\n",
    "def carré(x):\n",
    "    return x*x\n",
    "\n",
    "# pour que la fonction soit exécutée il faut l'appliquer à des valeurs concrètes :\n",
    "print(\"Le carré de 13 :\", carré(13))\n",
    "print(  \"Et le carré de 5,5 au carré :\", carré( carré(5.5) )  )\n",
    "\n",
    "# on peut bien sûr lui passer ces valeurs sous la forme d'une variable les contenant :\n",
    "a = 10\n",
    "print(\"10**2 =\", carré(a))\n",
    "\n",
    "# le programme se comporte comme si on avait remplacé carré(10) par la valeur qu'elle renvoie :\n",
    "print(5 * carré(10))\n",
    "print(5 * 100)"
   ]
  },
  {
   "cell_type": "markdown",
   "metadata": {},
   "source": [
    "Mais une fonction peut avoir plusieurs paramètres et contenir plusieurs instructions, toutes indentées pour montrer qu'elles font toutes partie de la définition de la fonction :"
   ]
  },
  {
   "cell_type": "code",
   "execution_count": null,
   "metadata": {},
   "outputs": [],
   "source": [
    "# force d'attraction gravitationnelle en Newton entre deux masses (en kg) m1 et m2, distantes de d (en m)\n",
    "def attraction(m1, m2, d):\n",
    "    # constante gravitationnelle\n",
    "    G = 6.674e-11\n",
    "    \n",
    "    return G * m1 * m2 / carré(d)\n",
    "\n",
    "\n",
    "m_terre = 5.972e24\n",
    "r_terre = 6.371e6\n",
    "print(\"Le poids d'une personne de 60kg sur Terre est environ\", attraction(60, m_terre, r_terre), \"N\")\n",
    "\n",
    "m_lune = 7.347e22\n",
    "d_terre_lune = 3.84e8\n",
    "print(\"La force d'attraction entre la Terre et la Lune est d'environ\", attraction(m_terre, m_lune, d_terre_lune), \"N\")"
   ]
  },
  {
   "cell_type": "markdown",
   "metadata": {},
   "source": [
    "Il est même possible d'avoir des instructions conditionnelles dans une fonction. Notez que dès que l'instruction `return` est rencontrée, la fonction cesse de s'exécuter :"
   ]
  },
  {
   "cell_type": "code",
   "execution_count": null,
   "metadata": {},
   "outputs": [],
   "source": [
    "def maximum(a, b):\n",
    "    if a < b:\n",
    "        return b\n",
    "    else:\n",
    "        return a\n",
    "    \n",
    "    print(\"Notez qu'on n'arrive jamais jusqu'à cette instruction !\")\n",
    "    \n",
    "print(maximum(5,15))\n",
    "print(maximum(2**10, 10**3))\n",
    "    "
   ]
  },
  {
   "cell_type": "markdown",
   "metadata": {},
   "source": [
    "On peut également renvoyer plusieurs valeurs en les séparant par des virgules, on renvoie en fait dans ce cas des p-uplets (que les anglais et Python appelle des `tuple`) :"
   ]
  },
  {
   "cell_type": "code",
   "execution_count": null,
   "metadata": {},
   "outputs": [],
   "source": [
    "def ordonner(a,b):\n",
    "    if a < b :\n",
    "        return (a,b)\n",
    "    else:\n",
    "        return (b,a)\n",
    "\n",
    "print(\"Dans l'ordre :\", ordonner(5,15))\n",
    "print(\"Dans l'ordre :\", ordonner(2**20, 10**6))\n",
    "print(\"Du type :\", type(ordonner(1,2)))"
   ]
  },
  {
   "cell_type": "markdown",
   "metadata": {},
   "source": [
    "Python contient un certain nombre de fonctions prédéfinies par défaut comme `print`, `type`, `abs` (valeur absolue), `str` (convertit en texte), `help` (fonction d'aide, essayez par exemple de taper `help(print)` dans une cellule de code. Il est néanmoins assez fréquent d'avoir besoin d'autres fonctions qui ne sont pas déjà définies, il est alors possible d'*importer* les définitions de ces fonctions depuis un autre fichier Python (qu'on appelle un *module* dans ce cas) de façon à pouvoir les utiliser sans avoir à les définir soi-même. On fait cela avec la syntaxe `from module import fonction1, fonction2, ..., fonctionn`, on peut même importer ainsi des variables contenant des constantes utiles. Par exemple le module `math` contient beaucoup de fonctions et constantes utiles en Mathématiques :"
   ]
  },
  {
   "cell_type": "code",
   "execution_count": null,
   "metadata": {},
   "outputs": [],
   "source": [
    "from math import sqrt, exp, cos, pi\n",
    "\n",
    "# sqrt est une abréviation de 'square root' (racine carrée)\n",
    "print(\"La racine carrée de 36 :\", sqrt(36))\n",
    "print(\"L'aire d'un cercle de rayon 5 :\", pi * 5 * 5)\n",
    "# Notez l'inexactitude de la fonction cosinus (ou de pi/3)\n",
    "print(\"Valeur remarquable de cosinus :\", cos(pi/3))"
   ]
  },
  {
   "cell_type": "markdown",
   "metadata": {},
   "source": [
    "**Exercice** :\n",
    "    \n",
    "1. Écrire une fonction cube prenant en paramètre un réel $x$ et renvoyant son cube sans utiliser l'opérateur `**`.\n",
    "2. Toutes les fonctions suivantes prennent en argument trois réels $a$, $b$ et $c$ avec $a \\ne 0$ :\n",
    "   1. Écrire une fonction renvoyant la valeur du discriminant du trinôme $ax^2+bx+c$.\n",
    "   2. Écrire une fonction renvoyant le signe (`\"plus\"` ou `\"moins\"` ou `\"zéro\"`) de ce discriminant.\n",
    "   3. Écrire une fonction renvoyant le nombre de racines distinctes du trinôme $ax^2+bx+c$.\n",
    "   4. Écrire une fonction renvoyant le nombre de racines et les valeurs de ces racines, le cas échant.\n",
    "   5. Écrire une fonction renvoyant une description du signe du trinôme $ax^2+bx+c$ suivant les valeurs de $x$."
   ]
  },
  {
   "cell_type": "code",
   "execution_count": null,
   "metadata": {},
   "outputs": [],
   "source": [
    "from math import sqrt\n",
    "\n",
    "def cube(x):\n",
    "    ...\n",
    "\n",
    "assert cube(3) == 27\n",
    "\n",
    "def discriminant(a,b,c):\n",
    "    ...\n",
    "    \n",
    "assert discriminant(1, 2, 1) == 0\n",
    "\n",
    "def signe_delta(a,b,c):\n",
    "    ...\n",
    "\n",
    "assert signe_delta(1,1,1) == \"moins\"\n",
    "\n",
    "def nb_racines(a,b,c):\n",
    "    ...\n",
    "    \n",
    "assert nb_racines(1, 2, 1) == 1\n",
    "\n",
    "def racines(a,b,c):\n",
    "    ...\n",
    "    \n",
    "assert racines(1, 4, 4) == (1, 2)\n",
    "\n",
    "def signe_trinome(a,b,c):\n",
    "    ...\n",
    "    \n",
    "assert signe_trinome(1, -1, -6) == \"positif sauf entre -2 et 3\""
   ]
  },
  {
   "cell_type": "markdown",
   "metadata": {},
   "source": [
    "Si vous avez terminé (et m'avez montré votre code final), vous pouvez vous rendre sur [France-IOI](http://www.france-ioi.org/) pour créer un compte (ou utilisez vos comptes Facebook ou Google) et aller voir la partie [Cours et Problèmes](http://www.france-ioi.org/algo/chapters.php) pour faire [la partie 2 du Niveau 1](http://www.france-ioi.org/algo/chapter.php?idChapter=643) sur les répétitions d'instructions (ou plus)."
   ]
  }
 ],
 "metadata": {
  "kernelspec": {
   "display_name": "Python 3",
   "language": "python",
   "name": "python3"
  },
  "language_info": {
   "codemirror_mode": {
    "name": "ipython",
    "version": 3
   },
   "file_extension": ".py",
   "mimetype": "text/x-python",
   "name": "python",
   "nbconvert_exporter": "python",
   "pygments_lexer": "ipython3",
   "version": "3.7.0"
  }
 },
 "nbformat": 4,
 "nbformat_minor": 4
}
